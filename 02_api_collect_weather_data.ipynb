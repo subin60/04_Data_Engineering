{
 "cells": [
  {
   "cell_type": "code",
   "execution_count": 56,
   "id": "2518f05d",
   "metadata": {},
   "outputs": [],
   "source": [
    "import pandas as pd\n",
    "import requests\n",
    "from datetime import datetime\n",
    "import pytz"
   ]
  },
  {
   "cell_type": "code",
   "execution_count": 103,
   "id": "00f83940",
   "metadata": {},
   "outputs": [],
   "source": [
    "city = 'Berlin'\n",
    "API_key = '266842718e80f385eafc27796c152eee'\n",
    "\n",
    "weather = requests.get(f'http://api.openweathermap.org/data/2.5/forecast?q={city}&appid={API_key}&units=metric')\n",
    "\n",
    "weather_json = weather.json()\n"
   ]
  },
  {
   "cell_type": "code",
   "execution_count": 49,
   "id": "b1f36f82",
   "metadata": {},
   "outputs": [
    {
     "data": {
      "text/plain": [
       "dict_keys(['cod', 'message', 'cnt', 'list', 'city'])"
      ]
     },
     "execution_count": 49,
     "metadata": {},
     "output_type": "execute_result"
    }
   ],
   "source": [
    "weather_json.keys()"
   ]
  },
  {
   "cell_type": "code",
   "execution_count": 4,
   "id": "87a4aa6d",
   "metadata": {},
   "outputs": [
    {
     "data": {
      "text/plain": [
       "'200'"
      ]
     },
     "execution_count": 4,
     "metadata": {},
     "output_type": "execute_result"
    }
   ],
   "source": [
    "weather_json['cod']"
   ]
  },
  {
   "cell_type": "code",
   "execution_count": 5,
   "id": "9cfc5e98",
   "metadata": {},
   "outputs": [
    {
     "data": {
      "text/plain": [
       "0"
      ]
     },
     "execution_count": 5,
     "metadata": {},
     "output_type": "execute_result"
    }
   ],
   "source": [
    "weather_json['message']"
   ]
  },
  {
   "cell_type": "code",
   "execution_count": 6,
   "id": "e32907d7",
   "metadata": {},
   "outputs": [
    {
     "data": {
      "text/plain": [
       "40"
      ]
     },
     "execution_count": 6,
     "metadata": {},
     "output_type": "execute_result"
    }
   ],
   "source": [
    "weather_json['cnt']"
   ]
  },
  {
   "cell_type": "code",
   "execution_count": null,
   "id": "e50f3498",
   "metadata": {
    "tags": []
   },
   "outputs": [],
   "source": [
    "weather_json['list']"
   ]
  },
  {
   "cell_type": "code",
   "execution_count": 270,
   "id": "512a02ba",
   "metadata": {
    "collapsed": true,
    "jupyter": {
     "outputs_hidden": true
    }
   },
   "outputs": [
    {
     "data": {
      "text/plain": [
       "{'dt': 1677780000,\n",
       " 'main': {'temp': 3.58,\n",
       "  'feels_like': 1.85,\n",
       "  'temp_min': 3.58,\n",
       "  'temp_max': 4.09,\n",
       "  'pressure': 1021,\n",
       "  'sea_level': 1021,\n",
       "  'grnd_level': 1017,\n",
       "  'humidity': 73,\n",
       "  'temp_kf': -0.51},\n",
       " 'weather': [{'id': 802,\n",
       "   'main': 'Clouds',\n",
       "   'description': 'scattered clouds',\n",
       "   'icon': '03n'}],\n",
       " 'clouds': {'all': 28},\n",
       " 'wind': {'speed': 1.88, 'deg': 48, 'gust': 2.98},\n",
       " 'visibility': 10000,\n",
       " 'pop': 0,\n",
       " 'sys': {'pod': 'n'},\n",
       " 'dt_txt': '2023-03-02 18:00:00'}"
      ]
     },
     "execution_count": 270,
     "metadata": {},
     "output_type": "execute_result"
    }
   ],
   "source": [
    "weather_json['list'][0]"
   ]
  },
  {
   "cell_type": "code",
   "execution_count": 8,
   "id": "c53fac39",
   "metadata": {},
   "outputs": [
    {
     "data": {
      "text/plain": [
       "{'temp': 0.96,\n",
       " 'feels_like': -1.19,\n",
       " 'temp_min': 0.96,\n",
       " 'temp_max': 4.09,\n",
       " 'pressure': 996,\n",
       " 'sea_level': 996,\n",
       " 'grnd_level': 1017,\n",
       " 'humidity': 91,\n",
       " 'temp_kf': -3.13}"
      ]
     },
     "execution_count": 8,
     "metadata": {},
     "output_type": "execute_result"
    }
   ],
   "source": [
    "weather_json['list'][0]['main']"
   ]
  },
  {
   "cell_type": "code",
   "execution_count": 11,
   "id": "d9e1e756",
   "metadata": {},
   "outputs": [
    {
     "data": {
      "text/plain": [
       "[{'id': 804,\n",
       "  'main': 'Clouds',\n",
       "  'description': 'overcast clouds',\n",
       "  'icon': '04n'}]"
      ]
     },
     "execution_count": 11,
     "metadata": {},
     "output_type": "execute_result"
    }
   ],
   "source": [
    "weather_json['list'][0]['weather']"
   ]
  },
  {
   "cell_type": "code",
   "execution_count": 261,
   "id": "bde14d35",
   "metadata": {},
   "outputs": [
    {
     "data": {
      "text/plain": [
       "{'speed': 1.88, 'deg': 48, 'gust': 2.98}"
      ]
     },
     "execution_count": 261,
     "metadata": {},
     "output_type": "execute_result"
    }
   ],
   "source": [
    "weather_json['list'][0]['wind']"
   ]
  },
  {
   "cell_type": "code",
   "execution_count": 265,
   "id": "815bff44",
   "metadata": {},
   "outputs": [
    {
     "data": {
      "text/plain": [
       "10000"
      ]
     },
     "execution_count": 265,
     "metadata": {},
     "output_type": "execute_result"
    }
   ],
   "source": [
    "weather_json['list'][0]['visibility']"
   ]
  },
  {
   "cell_type": "code",
   "execution_count": 268,
   "id": "8adc72ec",
   "metadata": {},
   "outputs": [
    {
     "data": {
      "text/plain": [
       "0"
      ]
     },
     "execution_count": 268,
     "metadata": {},
     "output_type": "execute_result"
    }
   ],
   "source": [
    "weather_json['list'][0]['pop']"
   ]
  },
  {
   "cell_type": "code",
   "execution_count": 269,
   "id": "6d36c5fe",
   "metadata": {},
   "outputs": [
    {
     "data": {
      "text/plain": [
       "{'pod': 'n'}"
      ]
     },
     "execution_count": 269,
     "metadata": {},
     "output_type": "execute_result"
    }
   ],
   "source": [
    "weather_json['list'][0]['sys']"
   ]
  },
  {
   "cell_type": "code",
   "execution_count": 263,
   "id": "9ae96483",
   "metadata": {},
   "outputs": [
    {
     "data": {
      "text/plain": [
       "'2023-03-02 18:00:00'"
      ]
     },
     "execution_count": 263,
     "metadata": {},
     "output_type": "execute_result"
    }
   ],
   "source": [
    "weather_json['list'][0]['dt_txt']"
   ]
  },
  {
   "cell_type": "code",
   "execution_count": 262,
   "id": "854958ac",
   "metadata": {},
   "outputs": [
    {
     "data": {
      "text/plain": [
       "{'id': 2950159,\n",
       " 'name': 'Berlin',\n",
       " 'coord': {'lat': 52.5244, 'lon': 13.4105},\n",
       " 'country': 'DE',\n",
       " 'population': 1000000,\n",
       " 'timezone': 3600,\n",
       " 'sunrise': 1677736312,\n",
       " 'sunset': 1677775540}"
      ]
     },
     "execution_count": 262,
     "metadata": {},
     "output_type": "execute_result"
    }
   ],
   "source": [
    "weather_json['city']"
   ]
  },
  {
   "cell_type": "code",
   "execution_count": 274,
   "id": "ade399b3",
   "metadata": {},
   "outputs": [
    {
     "data": {
      "text/plain": [
       "{'lat': 52.5244, 'lon': 13.4105}"
      ]
     },
     "execution_count": 274,
     "metadata": {},
     "output_type": "execute_result"
    }
   ],
   "source": [
    "weather_json['city']['coord']"
   ]
  },
  {
   "cell_type": "code",
   "execution_count": 20,
   "id": "a6d3bdb4-00d7-4f4f-a841-e7ff3ca3117d",
   "metadata": {},
   "outputs": [
    {
     "data": {
      "text/plain": [
       "0.96"
      ]
     },
     "execution_count": 20,
     "metadata": {},
     "output_type": "execute_result"
    }
   ],
   "source": [
    "weather_json['list'][0]['main']['temp']"
   ]
  },
  {
   "cell_type": "code",
   "execution_count": 65,
   "id": "cce08818-881b-4060-8a94-e76b048a24df",
   "metadata": {},
   "outputs": [
    {
     "data": {
      "text/plain": [
       "datetime.datetime(2023, 3, 3, 2, 56, 25, 144988, tzinfo=<DstTzInfo 'Europe/Berlin' CET+1:00:00 STD>)"
      ]
     },
     "execution_count": 65,
     "metadata": {},
     "output_type": "execute_result"
    }
   ],
   "source": [
    "tz = pytz.timezone('Europe/Berlin')\n",
    "now = datetime.now().astimezone(tz)\n",
    "\n",
    "now"
   ]
  },
  {
   "cell_type": "code",
   "execution_count": 97,
   "id": "31521ca4-23cc-4675-b2bd-521e8f1e0d2d",
   "metadata": {},
   "outputs": [],
   "source": [
    "\n",
    " weather_dict = {'city': [],\n",
    "                'country': [],\n",
    "                'forecast_time': [],\n",
    "                'outlook': [],\n",
    "                'detailed_outlook': [],\n",
    "                'temperature': [],\n",
    "                'temperature_feels_like': [],\n",
    "                'clouds': [],\n",
    "                'rain': [],\n",
    "                'snow': [],\n",
    "                'wind_speed': [],\n",
    "                'wind_deg': [],\n",
    "                'humidity': [],\n",
    "                'pressure': [],\n",
    "                'information_retrieved_at': []}\n",
    "    \n",
    "\n",
    "for i in weather_json['list']:\n",
    "    weather_dict['city'].append(weather_json['city']['name'])\n",
    "    weather_dict['country'].append(weather_json['city']['country'])\n",
    "    weather_dict['forecast_time'].append(i['dt_txt'])\n",
    "    weather_dict['outlook'].append(i['weather'][0]['main'])\n",
    "    weather_dict['detailed_outlook'].append(i['weather'][0]['description'])\n",
    "    weather_dict['temperature'].append(i['main']['temp'])\n",
    "    weather_dict['temperature_feels_like'].append(i['main']['feels_like'])\n",
    "    weather_dict['clouds'].append(i['clouds']['all'])\n",
    "    try:\n",
    "        weather_dict['rain'].append(i['rain']['3h'])\n",
    "    except:\n",
    "        weather_dict['rain'].append('0')\n",
    "    try:\n",
    "        weather_dict['snow'].append(i['snow']['3h'])\n",
    "    except:\n",
    "        weather_dict['snow'].append('0')\n",
    "    weather_dict['wind_speed'].append(i['wind']['speed'])\n",
    "    weather_dict['wind_deg'].append(i['wind']['deg'])\n",
    "    weather_dict['humidity'].append(i['main']['humidity'])\n",
    "    weather_dict['pressure'].append(i['main']['pressure'])\n",
    "    weather_dict['information_retrieved_at'].append(now.strftime('%d/%m/%Y %H:%M:%S'))    \n",
    "\n"
   ]
  },
  {
   "cell_type": "code",
   "execution_count": null,
   "id": "77bcc3fe-c9c4-4387-8522-ae51837b8b61",
   "metadata": {},
   "outputs": [],
   "source": [
    "weather_from_dict_df = pd.DataFrame(weather_dict)\n",
    "\n",
    "weather_from_dict_df.head()"
   ]
  },
  {
   "cell_type": "code",
   "execution_count": null,
   "id": "8f12db20-2549-47b4-87c8-13e855bb2031",
   "metadata": {},
   "outputs": [],
   "source": [
    "import pandas as pd\n",
    "import requests\n",
    "from datetime import datetime\n",
    "import pytz\n",
    "\n",
    "city = 'Kaufbeuren'\n",
    "API_key = '266842718e80f385eafc27796c152eee'\n",
    "\n",
    "tz = pytz.timezone('Europe/Berlin')\n",
    "now = datetime.now().astimezone(tz)\n",
    "\n",
    "weather_dict = {'city': [],\n",
    "                'country': [],\n",
    "                'forecast_time': [],\n",
    "                'outlook': [],\n",
    "                'detailed_outlook': [],\n",
    "                'temperature': [],\n",
    "                'temperature_feels_like': [],\n",
    "                'clouds': [],\n",
    "                'rain': [],\n",
    "                'snow': [],\n",
    "                'wind_speed': [],\n",
    "                'wind_deg': [],\n",
    "                'humidity': [],\n",
    "                'pressure': [],\n",
    "                'information_retrieved_at': []}\n",
    "\n",
    "weather = requests.get(f'http://api.openweathermap.org/data/2.5/forecast?q={city}&appid={API_key}&units=metric')\n",
    "weather_json = weather.json()\n",
    "\n",
    "for i in weather_json['list']:\n",
    "    weather_dict['city'].append(weather_json['city']['name'])\n",
    "    weather_dict['country'].append(weather_json['city']['country'])\n",
    "    weather_dict['forecast_time'].append(i['dt_txt'])\n",
    "    weather_dict['outlook'].append(i['weather'][0]['main'])\n",
    "    weather_dict['detailed_outlook'].append(i['weather'][0]['description'])\n",
    "    weather_dict['temperature'].append(i['main']['temp'])\n",
    "    weather_dict['temperature_feels_like'].append(i['main']['feels_like'])\n",
    "    weather_dict['clouds'].append(i['clouds']['all'])\n",
    "    try:\n",
    "        weather_dict['rain'].append(i['rain']['3h'])\n",
    "    except:\n",
    "        weather_dict['rain'].append('0')\n",
    "    try:\n",
    "        weather_dict['snow'].append(i['snow']['3h'])\n",
    "    except:\n",
    "        weather_dict['snow'].append('0')\n",
    "    weather_dict['wind_speed'].append(i['wind']['speed'])\n",
    "    weather_dict['wind_deg'].append(i['wind']['deg'])\n",
    "    weather_dict['humidity'].append(i['main']['humidity'])\n",
    "    weather_dict['pressure'].append(i['main']['pressure'])\n",
    "    weather_dict['information_retrieved_at'].append(now.strftime('%d/%m/%Y %H:%M:%S'))    \n",
    "\n",
    "weather_from_dict_df = pd.DataFrame(weather_dict)\n",
    "\n",
    "weather_from_dict_df.head(10)\n",
    "\n",
    "\n",
    " "
   ]
  },
  {
   "cell_type": "code",
   "execution_count": 3,
   "id": "b9c59ca7-a3d7-489b-9354-5bc7e94f3bed",
   "metadata": {},
   "outputs": [
    {
     "data": {
      "text/html": [
       "<div>\n",
       "<style scoped>\n",
       "    .dataframe tbody tr th:only-of-type {\n",
       "        vertical-align: middle;\n",
       "    }\n",
       "\n",
       "    .dataframe tbody tr th {\n",
       "        vertical-align: top;\n",
       "    }\n",
       "\n",
       "    .dataframe thead th {\n",
       "        text-align: right;\n",
       "    }\n",
       "</style>\n",
       "<table border=\"1\" class=\"dataframe\">\n",
       "  <thead>\n",
       "    <tr style=\"text-align: right;\">\n",
       "      <th></th>\n",
       "      <th>city</th>\n",
       "      <th>country</th>\n",
       "      <th>forecast_time</th>\n",
       "      <th>outlook</th>\n",
       "      <th>detailed_outlook</th>\n",
       "      <th>temperature</th>\n",
       "      <th>temperature_feels_like</th>\n",
       "      <th>clouds</th>\n",
       "      <th>rain</th>\n",
       "      <th>snow</th>\n",
       "      <th>wind_speed</th>\n",
       "      <th>wind_deg</th>\n",
       "      <th>humidity</th>\n",
       "      <th>pressure</th>\n",
       "      <th>sea_level</th>\n",
       "      <th>grnd_level</th>\n",
       "      <th>information_retrieved_at</th>\n",
       "    </tr>\n",
       "  </thead>\n",
       "  <tbody>\n",
       "    <tr>\n",
       "      <th>0</th>\n",
       "      <td>Frankfurt am Main</td>\n",
       "      <td>DE</td>\n",
       "      <td>2023-03-06 21:00:00</td>\n",
       "      <td>Clouds</td>\n",
       "      <td>scattered clouds</td>\n",
       "      <td>3.62</td>\n",
       "      <td>0.44</td>\n",
       "      <td>47</td>\n",
       "      <td>0</td>\n",
       "      <td>0</td>\n",
       "      <td>3.57</td>\n",
       "      <td>231</td>\n",
       "      <td>68</td>\n",
       "      <td>1005</td>\n",
       "      <td>1005</td>\n",
       "      <td>992</td>\n",
       "      <td>06/03/2023 20:21:01</td>\n",
       "    </tr>\n",
       "    <tr>\n",
       "      <th>1</th>\n",
       "      <td>Frankfurt am Main</td>\n",
       "      <td>DE</td>\n",
       "      <td>2023-03-07 00:00:00</td>\n",
       "      <td>Clouds</td>\n",
       "      <td>broken clouds</td>\n",
       "      <td>3.19</td>\n",
       "      <td>-0.70</td>\n",
       "      <td>73</td>\n",
       "      <td>0</td>\n",
       "      <td>0</td>\n",
       "      <td>4.57</td>\n",
       "      <td>218</td>\n",
       "      <td>76</td>\n",
       "      <td>1004</td>\n",
       "      <td>1004</td>\n",
       "      <td>990</td>\n",
       "      <td>06/03/2023 20:21:01</td>\n",
       "    </tr>\n",
       "    <tr>\n",
       "      <th>2</th>\n",
       "      <td>Frankfurt am Main</td>\n",
       "      <td>DE</td>\n",
       "      <td>2023-03-07 03:00:00</td>\n",
       "      <td>Rain</td>\n",
       "      <td>light rain</td>\n",
       "      <td>3.20</td>\n",
       "      <td>-1.05</td>\n",
       "      <td>100</td>\n",
       "      <td>0.23</td>\n",
       "      <td>0</td>\n",
       "      <td>5.27</td>\n",
       "      <td>224</td>\n",
       "      <td>86</td>\n",
       "      <td>1002</td>\n",
       "      <td>1002</td>\n",
       "      <td>988</td>\n",
       "      <td>06/03/2023 20:21:01</td>\n",
       "    </tr>\n",
       "    <tr>\n",
       "      <th>3</th>\n",
       "      <td>Frankfurt am Main</td>\n",
       "      <td>DE</td>\n",
       "      <td>2023-03-07 06:00:00</td>\n",
       "      <td>Rain</td>\n",
       "      <td>light rain</td>\n",
       "      <td>3.60</td>\n",
       "      <td>-0.70</td>\n",
       "      <td>100</td>\n",
       "      <td>0.1</td>\n",
       "      <td>0</td>\n",
       "      <td>5.60</td>\n",
       "      <td>225</td>\n",
       "      <td>82</td>\n",
       "      <td>1001</td>\n",
       "      <td>1001</td>\n",
       "      <td>987</td>\n",
       "      <td>06/03/2023 20:21:01</td>\n",
       "    </tr>\n",
       "    <tr>\n",
       "      <th>4</th>\n",
       "      <td>Frankfurt am Main</td>\n",
       "      <td>DE</td>\n",
       "      <td>2023-03-07 09:00:00</td>\n",
       "      <td>Clouds</td>\n",
       "      <td>overcast clouds</td>\n",
       "      <td>3.89</td>\n",
       "      <td>-0.45</td>\n",
       "      <td>100</td>\n",
       "      <td>0</td>\n",
       "      <td>0</td>\n",
       "      <td>5.86</td>\n",
       "      <td>227</td>\n",
       "      <td>78</td>\n",
       "      <td>1001</td>\n",
       "      <td>1001</td>\n",
       "      <td>987</td>\n",
       "      <td>06/03/2023 20:21:01</td>\n",
       "    </tr>\n",
       "    <tr>\n",
       "      <th>...</th>\n",
       "      <td>...</td>\n",
       "      <td>...</td>\n",
       "      <td>...</td>\n",
       "      <td>...</td>\n",
       "      <td>...</td>\n",
       "      <td>...</td>\n",
       "      <td>...</td>\n",
       "      <td>...</td>\n",
       "      <td>...</td>\n",
       "      <td>...</td>\n",
       "      <td>...</td>\n",
       "      <td>...</td>\n",
       "      <td>...</td>\n",
       "      <td>...</td>\n",
       "      <td>...</td>\n",
       "      <td>...</td>\n",
       "      <td>...</td>\n",
       "    </tr>\n",
       "    <tr>\n",
       "      <th>195</th>\n",
       "      <td>Hamburg</td>\n",
       "      <td>DE</td>\n",
       "      <td>2023-03-11 06:00:00</td>\n",
       "      <td>Clouds</td>\n",
       "      <td>overcast clouds</td>\n",
       "      <td>1.30</td>\n",
       "      <td>-3.35</td>\n",
       "      <td>85</td>\n",
       "      <td>0</td>\n",
       "      <td>0</td>\n",
       "      <td>5.10</td>\n",
       "      <td>278</td>\n",
       "      <td>82</td>\n",
       "      <td>992</td>\n",
       "      <td>992</td>\n",
       "      <td>989</td>\n",
       "      <td>06/03/2023 20:21:01</td>\n",
       "    </tr>\n",
       "    <tr>\n",
       "      <th>196</th>\n",
       "      <td>Hamburg</td>\n",
       "      <td>DE</td>\n",
       "      <td>2023-03-11 09:00:00</td>\n",
       "      <td>Snow</td>\n",
       "      <td>light snow</td>\n",
       "      <td>4.24</td>\n",
       "      <td>-0.48</td>\n",
       "      <td>59</td>\n",
       "      <td>0</td>\n",
       "      <td>0.38</td>\n",
       "      <td>7.04</td>\n",
       "      <td>279</td>\n",
       "      <td>73</td>\n",
       "      <td>995</td>\n",
       "      <td>995</td>\n",
       "      <td>992</td>\n",
       "      <td>06/03/2023 20:21:01</td>\n",
       "    </tr>\n",
       "    <tr>\n",
       "      <th>197</th>\n",
       "      <td>Hamburg</td>\n",
       "      <td>DE</td>\n",
       "      <td>2023-03-11 12:00:00</td>\n",
       "      <td>Rain</td>\n",
       "      <td>light rain</td>\n",
       "      <td>6.29</td>\n",
       "      <td>2.27</td>\n",
       "      <td>42</td>\n",
       "      <td>0.1</td>\n",
       "      <td>0</td>\n",
       "      <td>6.70</td>\n",
       "      <td>294</td>\n",
       "      <td>54</td>\n",
       "      <td>998</td>\n",
       "      <td>998</td>\n",
       "      <td>996</td>\n",
       "      <td>06/03/2023 20:21:01</td>\n",
       "    </tr>\n",
       "    <tr>\n",
       "      <th>198</th>\n",
       "      <td>Hamburg</td>\n",
       "      <td>DE</td>\n",
       "      <td>2023-03-11 15:00:00</td>\n",
       "      <td>Rain</td>\n",
       "      <td>light rain</td>\n",
       "      <td>5.20</td>\n",
       "      <td>0.64</td>\n",
       "      <td>65</td>\n",
       "      <td>0.27</td>\n",
       "      <td>0</td>\n",
       "      <td>7.36</td>\n",
       "      <td>277</td>\n",
       "      <td>64</td>\n",
       "      <td>1000</td>\n",
       "      <td>1000</td>\n",
       "      <td>997</td>\n",
       "      <td>06/03/2023 20:21:01</td>\n",
       "    </tr>\n",
       "    <tr>\n",
       "      <th>199</th>\n",
       "      <td>Hamburg</td>\n",
       "      <td>DE</td>\n",
       "      <td>2023-03-11 18:00:00</td>\n",
       "      <td>Clouds</td>\n",
       "      <td>broken clouds</td>\n",
       "      <td>2.84</td>\n",
       "      <td>-2.23</td>\n",
       "      <td>66</td>\n",
       "      <td>0</td>\n",
       "      <td>0</td>\n",
       "      <td>6.91</td>\n",
       "      <td>268</td>\n",
       "      <td>71</td>\n",
       "      <td>1001</td>\n",
       "      <td>1001</td>\n",
       "      <td>998</td>\n",
       "      <td>06/03/2023 20:21:01</td>\n",
       "    </tr>\n",
       "  </tbody>\n",
       "</table>\n",
       "<p>200 rows × 17 columns</p>\n",
       "</div>"
      ],
      "text/plain": [
       "                  city country        forecast_time outlook  detailed_outlook  \\\n",
       "0    Frankfurt am Main      DE  2023-03-06 21:00:00  Clouds  scattered clouds   \n",
       "1    Frankfurt am Main      DE  2023-03-07 00:00:00  Clouds     broken clouds   \n",
       "2    Frankfurt am Main      DE  2023-03-07 03:00:00    Rain        light rain   \n",
       "3    Frankfurt am Main      DE  2023-03-07 06:00:00    Rain        light rain   \n",
       "4    Frankfurt am Main      DE  2023-03-07 09:00:00  Clouds   overcast clouds   \n",
       "..                 ...     ...                  ...     ...               ...   \n",
       "195            Hamburg      DE  2023-03-11 06:00:00  Clouds   overcast clouds   \n",
       "196            Hamburg      DE  2023-03-11 09:00:00    Snow        light snow   \n",
       "197            Hamburg      DE  2023-03-11 12:00:00    Rain        light rain   \n",
       "198            Hamburg      DE  2023-03-11 15:00:00    Rain        light rain   \n",
       "199            Hamburg      DE  2023-03-11 18:00:00  Clouds     broken clouds   \n",
       "\n",
       "     temperature  temperature_feels_like  clouds  rain  snow  wind_speed  \\\n",
       "0           3.62                    0.44      47     0     0        3.57   \n",
       "1           3.19                   -0.70      73     0     0        4.57   \n",
       "2           3.20                   -1.05     100  0.23     0        5.27   \n",
       "3           3.60                   -0.70     100   0.1     0        5.60   \n",
       "4           3.89                   -0.45     100     0     0        5.86   \n",
       "..           ...                     ...     ...   ...   ...         ...   \n",
       "195         1.30                   -3.35      85     0     0        5.10   \n",
       "196         4.24                   -0.48      59     0  0.38        7.04   \n",
       "197         6.29                    2.27      42   0.1     0        6.70   \n",
       "198         5.20                    0.64      65  0.27     0        7.36   \n",
       "199         2.84                   -2.23      66     0     0        6.91   \n",
       "\n",
       "     wind_deg  humidity  pressure  sea_level  grnd_level  \\\n",
       "0         231        68      1005       1005         992   \n",
       "1         218        76      1004       1004         990   \n",
       "2         224        86      1002       1002         988   \n",
       "3         225        82      1001       1001         987   \n",
       "4         227        78      1001       1001         987   \n",
       "..        ...       ...       ...        ...         ...   \n",
       "195       278        82       992        992         989   \n",
       "196       279        73       995        995         992   \n",
       "197       294        54       998        998         996   \n",
       "198       277        64      1000       1000         997   \n",
       "199       268        71      1001       1001         998   \n",
       "\n",
       "    information_retrieved_at  \n",
       "0        06/03/2023 20:21:01  \n",
       "1        06/03/2023 20:21:01  \n",
       "2        06/03/2023 20:21:01  \n",
       "3        06/03/2023 20:21:01  \n",
       "4        06/03/2023 20:21:01  \n",
       "..                       ...  \n",
       "195      06/03/2023 20:21:01  \n",
       "196      06/03/2023 20:21:01  \n",
       "197      06/03/2023 20:21:01  \n",
       "198      06/03/2023 20:21:01  \n",
       "199      06/03/2023 20:21:01  \n",
       "\n",
       "[200 rows x 17 columns]"
      ]
     },
     "execution_count": 3,
     "metadata": {},
     "output_type": "execute_result"
    }
   ],
   "source": [
    "import pandas as pd\n",
    "import requests\n",
    "from datetime import datetime\n",
    "import pytz\n",
    "\n",
    "cities = ['Frankfurt', 'Berlin', 'Cologne', 'Munich', 'Hamburg']\n",
    "API_key = '266842718e80f385eafc27796c152eee'\n",
    "\n",
    "tz = pytz.timezone('Europe/Berlin')\n",
    "now = datetime.now().astimezone(tz)\n",
    "\n",
    "weather_dict = {'city': [],\n",
    "                'country': [],\n",
    "                'forecast_time': [],\n",
    "                'outlook': [],\n",
    "                'detailed_outlook': [],\n",
    "                'temperature': [],\n",
    "                'temperature_feels_like': [],\n",
    "                'clouds': [],\n",
    "                'rain': [],\n",
    "                'snow': [],\n",
    "                'wind_speed': [],\n",
    "                'wind_deg': [],\n",
    "                'humidity': [],\n",
    "                'pressure': [],\n",
    "                'sea_level': [],\n",
    "                'grnd_level': [],                \n",
    "                'information_retrieved_at': []}\n",
    "\n",
    "for city in cities:\n",
    "    weather = requests.get(f'http://api.openweathermap.org/data/2.5/forecast?q={city}&appid={API_key}&units=metric')\n",
    "    weather_json = weather.json()\n",
    "\n",
    "    for i in weather_json['list']:\n",
    "        weather_dict['city'].append(weather_json['city']['name'])\n",
    "        weather_dict['country'].append(weather_json['city']['country'])\n",
    "        weather_dict['forecast_time'].append(i['dt_txt'])\n",
    "        weather_dict['outlook'].append(i['weather'][0]['main'])\n",
    "        weather_dict['detailed_outlook'].append(i['weather'][0]['description'])\n",
    "        weather_dict['temperature'].append(i['main']['temp'])\n",
    "        weather_dict['temperature_feels_like'].append(i['main']['feels_like'])\n",
    "        weather_dict['sea_level'].append(i['main']['sea_level'])\n",
    "        weather_dict['grnd_level'].append(i['main']['grnd_level'])\n",
    "        weather_dict['clouds'].append(i['clouds']['all'])\n",
    "        try:\n",
    "            weather_dict['rain'].append(i['rain']['3h'])\n",
    "        except:\n",
    "            weather_dict['rain'].append('0')\n",
    "        try:\n",
    "            weather_dict['snow'].append(i['snow']['3h'])\n",
    "        except:\n",
    "            weather_dict['snow'].append('0')\n",
    "        weather_dict['wind_speed'].append(i['wind']['speed'])\n",
    "        weather_dict['wind_deg'].append(i['wind']['deg'])\n",
    "        weather_dict['humidity'].append(i['main']['humidity'])\n",
    "        weather_dict['pressure'].append(i['main']['pressure'])\n",
    "        weather_dict['information_retrieved_at'].append(now.strftime('%d/%m/%Y %H:%M:%S'))    \n",
    "\n",
    "weather_from_dict_df = pd.DataFrame(weather_dict)\n",
    "\n",
    "weather_from_dict_df"
   ]
  },
  {
   "cell_type": "code",
   "execution_count": null,
   "id": "c766ca13-1c6a-497e-9694-ef9b04c60e34",
   "metadata": {},
   "outputs": [],
   "source": []
  }
 ],
 "metadata": {
  "kernelspec": {
   "display_name": "Python 3 (ipykernel)",
   "language": "python",
   "name": "python3"
  },
  "language_info": {
   "codemirror_mode": {
    "name": "ipython",
    "version": 3
   },
   "file_extension": ".py",
   "mimetype": "text/x-python",
   "name": "python",
   "nbconvert_exporter": "python",
   "pygments_lexer": "ipython3",
   "version": "3.9.13"
  }
 },
 "nbformat": 4,
 "nbformat_minor": 5
}
